{
  "nbformat": 4,
  "nbformat_minor": 0,
  "metadata": {
    "colab": {
      "provenance": []
    },
    "kernelspec": {
      "name": "python3",
      "display_name": "Python 3"
    },
    "language_info": {
      "name": "python"
    }
  },
  "cells": [
    {
      "cell_type": "code",
      "source": [
        "!pip install deepmol\n",
        "!pip install deepchem"
      ],
      "metadata": {
        "colab": {
          "base_uri": "https://localhost:8080/"
        },
        "id": "GFTkt1WqgO8y",
        "outputId": "a02b3bad-0b70-4b10-df18-45e33b867054"
      },
      "execution_count": null,
      "outputs": [
        {
          "output_type": "stream",
          "name": "stdout",
          "text": [
            "Looking in indexes: https://pypi.org/simple, https://us-python.pkg.dev/colab-wheels/public/simple/\n",
            "Requirement already satisfied: deepmol in /usr/local/lib/python3.9/dist-packages (0.0.6b0)\n",
            "Requirement already satisfied: rdkit-pypi==2022.9.3 in /usr/local/lib/python3.9/dist-packages (from deepmol) (2022.9.3)\n",
            "Requirement already satisfied: numpy in /usr/local/lib/python3.9/dist-packages (from rdkit-pypi==2022.9.3->deepmol) (1.22.4)\n",
            "Requirement already satisfied: Pillow in /usr/local/lib/python3.9/dist-packages (from rdkit-pypi==2022.9.3->deepmol) (8.4.0)\n",
            "Looking in indexes: https://pypi.org/simple, https://us-python.pkg.dev/colab-wheels/public/simple/\n",
            "Requirement already satisfied: deepchem in /usr/local/lib/python3.9/dist-packages (2.7.1)\n",
            "Requirement already satisfied: scikit-learn in /usr/local/lib/python3.9/dist-packages (from deepchem) (1.2.2)\n",
            "Requirement already satisfied: pandas in /usr/local/lib/python3.9/dist-packages (from deepchem) (1.4.4)\n",
            "Requirement already satisfied: scipy<1.9 in /usr/local/lib/python3.9/dist-packages (from deepchem) (1.8.1)\n",
            "Requirement already satisfied: rdkit in /usr/local/lib/python3.9/dist-packages (from deepchem) (2022.9.5)\n",
            "Requirement already satisfied: joblib in /usr/local/lib/python3.9/dist-packages (from deepchem) (1.1.1)\n",
            "Requirement already satisfied: numpy>=1.21 in /usr/local/lib/python3.9/dist-packages (from deepchem) (1.22.4)\n",
            "Requirement already satisfied: python-dateutil>=2.8.1 in /usr/local/lib/python3.9/dist-packages (from pandas->deepchem) (2.8.2)\n",
            "Requirement already satisfied: pytz>=2020.1 in /usr/local/lib/python3.9/dist-packages (from pandas->deepchem) (2022.7.1)\n",
            "Requirement already satisfied: Pillow in /usr/local/lib/python3.9/dist-packages (from rdkit->deepchem) (8.4.0)\n",
            "Requirement already satisfied: threadpoolctl>=2.0.0 in /usr/local/lib/python3.9/dist-packages (from scikit-learn->deepchem) (3.1.0)\n",
            "Requirement already satisfied: six>=1.5 in /usr/local/lib/python3.9/dist-packages (from python-dateutil>=2.8.1->pandas->deepchem) (1.16.0)\n"
          ]
        }
      ]
    },
    {
      "cell_type": "code",
      "execution_count": null,
      "metadata": {
        "colab": {
          "base_uri": "https://localhost:8080/"
        },
        "id": "owrOuuoNgGUA",
        "outputId": "2d217cbb-ce13-4c47-df7d-bfc2707865ce"
      },
      "outputs": [
        {
          "output_type": "stream",
          "name": "stdout",
          "text": [
            "2023-03-29 01:31:43,378 — INFO — Assuming classification since there are less than 10 unique y values. If otherwise, explicitly set the mode to 'regression'!\n"
          ]
        },
        {
          "output_type": "stream",
          "name": "stderr",
          "text": [
            "INFO:deepmol.log:Assuming classification since there are less than 10 unique y values. If otherwise, explicitly set the mode to 'regression'!\n"
          ]
        },
        {
          "output_type": "stream",
          "name": "stdout",
          "text": [
            "2023-03-29 01:31:43,383 — INFO — Mols_shape: (8321,)\n"
          ]
        },
        {
          "output_type": "stream",
          "name": "stderr",
          "text": [
            "INFO:deepmol.log:Mols_shape: (8321,)\n"
          ]
        },
        {
          "output_type": "stream",
          "name": "stdout",
          "text": [
            "2023-03-29 01:31:43,387 — INFO — Features_shape: (8321, 9)\n"
          ]
        },
        {
          "output_type": "stream",
          "name": "stderr",
          "text": [
            "INFO:deepmol.log:Features_shape: (8321, 9)\n"
          ]
        },
        {
          "output_type": "stream",
          "name": "stdout",
          "text": [
            "2023-03-29 01:31:43,391 — INFO — Labels_shape: (8321,)\n"
          ]
        },
        {
          "output_type": "stream",
          "name": "stderr",
          "text": [
            "INFO:deepmol.log:Labels_shape: (8321,)\n"
          ]
        },
        {
          "output_type": "execute_result",
          "data": {
            "text/plain": [
              "((8321,), (8321, 9), (8321,))"
            ]
          },
          "metadata": {},
          "execution_count": 54
        }
      ],
      "source": [
        "from deepmol.loaders.loaders import CSVLoader\n",
        "\n",
        "# load a dataset from a CSV (required fields: dataset_path and smiles_field)\n",
        "loader = CSVLoader( dataset_path= 'Beta-secretase1_bioactivity_withdescriptors.csv',\n",
        "                   smiles_field='canonical_smiles',\n",
        "                   id_field='molecule_chembl_id',\n",
        "                   labels_fields=['class'],\n",
        "                   features_fields=['MW', 'LogP', 'NumHDonors', 'NumHAcceptors' , 'NumHeavyAtoms' , 'num_chiral_centers_list' , 'polarizabilities' , 'num_rings' , 'rotatable_bonds'], #'pIC50'\n",
        "                   shard_size=8321,\n",
        "                   mode='auto')\n",
        "\n",
        "dataset = loader.create_dataset()\n",
        "\n",
        "# print shape of the dataset (molecules, X, y)\n",
        "dataset.get_shape()"
      ]
    },
    {
      "cell_type": "code",
      "source": [
        "#  Custom Standardizer\n",
        "\n",
        "heavy_standardisation = {\n",
        "    'REMOVE_ISOTOPE': True,\n",
        "    'NEUTRALISE_CHARGE': True,\n",
        "    'REMOVE_STEREO': True,\n",
        "    'KEEP_BIGGEST': True,\n",
        "    'ADD_HYDROGEN': True,\n",
        "    'KEKULIZE': False,\n",
        "    'NEUTRALISE_CHARGE_LATE': True}\n",
        "\n",
        " #   from deepmol.unsupervised import UMAP\n",
        "\n",
        "#  ump = UMAP()\n",
        "#  umap_df = ump.run_unsupervised(dataset)\n",
        "#  ump.plot(umap_df.X, path='umap_output.png')\n",
        "from deepmol.splitters.splitters import SingletaskStratifiedSplitter\n",
        "\n",
        "# Data Split\n",
        "splitter = SingletaskStratifiedSplitter()\n",
        "train_dataset, valid_dataset, test_dataset = splitter.train_valid_test_split(dataset=dataset, frac_train=0.9,\n",
        "                                                                             frac_valid=0.15, frac_test=0.15)\n",
        "train_dataset.get_shape()"
      ],
      "metadata": {
        "colab": {
          "base_uri": "https://localhost:8080/"
        },
        "id": "mzoYCr1pgtJA",
        "outputId": "70c70a13-112c-4f62-d457-095f486e9716"
      },
      "execution_count": null,
      "outputs": [
        {
          "output_type": "stream",
          "name": "stdout",
          "text": [
            "2023-03-29 01:31:43,835 — INFO — Mols_shape: (5824,)\n"
          ]
        },
        {
          "output_type": "stream",
          "name": "stderr",
          "text": [
            "INFO:deepmol.log:Mols_shape: (5824,)\n"
          ]
        },
        {
          "output_type": "stream",
          "name": "stdout",
          "text": [
            "2023-03-29 01:31:43,840 — INFO — Features_shape: (5824, 9)\n"
          ]
        },
        {
          "output_type": "stream",
          "name": "stderr",
          "text": [
            "INFO:deepmol.log:Features_shape: (5824, 9)\n"
          ]
        },
        {
          "output_type": "stream",
          "name": "stdout",
          "text": [
            "2023-03-29 01:31:43,845 — INFO — Labels_shape: (5824,)\n"
          ]
        },
        {
          "output_type": "stream",
          "name": "stderr",
          "text": [
            "INFO:deepmol.log:Labels_shape: (5824,)\n"
          ]
        },
        {
          "output_type": "execute_result",
          "data": {
            "text/plain": [
              "((5824,), (5824, 9), (5824,))"
            ]
          },
          "metadata": {},
          "execution_count": 55
        }
      ]
    },
    {
      "cell_type": "code",
      "source": [
        "valid_dataset.get_shape()"
      ],
      "metadata": {
        "colab": {
          "base_uri": "https://localhost:8080/"
        },
        "id": "sX5Ynq-wgxWD",
        "outputId": "6a9e2e5b-707b-4865-d055-febef4dc54f0"
      },
      "execution_count": null,
      "outputs": [
        {
          "output_type": "stream",
          "name": "stdout",
          "text": [
            "2023-03-29 01:23:32,400 — INFO — Mols_shape: (1248,)\n"
          ]
        },
        {
          "output_type": "stream",
          "name": "stderr",
          "text": [
            "INFO:deepmol.log:Mols_shape: (1248,)\n"
          ]
        },
        {
          "output_type": "stream",
          "name": "stdout",
          "text": [
            "2023-03-29 01:23:32,404 — INFO — Features_shape: (1248, 9)\n"
          ]
        },
        {
          "output_type": "stream",
          "name": "stderr",
          "text": [
            "INFO:deepmol.log:Features_shape: (1248, 9)\n"
          ]
        },
        {
          "output_type": "stream",
          "name": "stdout",
          "text": [
            "2023-03-29 01:23:32,407 — INFO — Labels_shape: (1248,)\n"
          ]
        },
        {
          "output_type": "stream",
          "name": "stderr",
          "text": [
            "INFO:deepmol.log:Labels_shape: (1248,)\n"
          ]
        },
        {
          "output_type": "execute_result",
          "data": {
            "text/plain": [
              "((1248,), (1248, 9), (1248,))"
            ]
          },
          "metadata": {},
          "execution_count": 6
        }
      ]
    },
    {
      "cell_type": "code",
      "source": [
        "test_dataset.get_shape()"
      ],
      "metadata": {
        "colab": {
          "base_uri": "https://localhost:8080/"
        },
        "id": "AJlOrUY2g1_B",
        "outputId": "d1ff2a35-a30b-42cf-eaf3-4fecab79eec2"
      },
      "execution_count": null,
      "outputs": [
        {
          "output_type": "stream",
          "name": "stdout",
          "text": [
            "2023-03-29 01:23:32,420 — INFO — Mols_shape: (1249,)\n"
          ]
        },
        {
          "output_type": "stream",
          "name": "stderr",
          "text": [
            "INFO:deepmol.log:Mols_shape: (1249,)\n"
          ]
        },
        {
          "output_type": "stream",
          "name": "stdout",
          "text": [
            "2023-03-29 01:23:32,424 — INFO — Features_shape: (1249, 9)\n"
          ]
        },
        {
          "output_type": "stream",
          "name": "stderr",
          "text": [
            "INFO:deepmol.log:Features_shape: (1249, 9)\n"
          ]
        },
        {
          "output_type": "stream",
          "name": "stdout",
          "text": [
            "2023-03-29 01:23:32,427 — INFO — Labels_shape: (1249,)\n"
          ]
        },
        {
          "output_type": "stream",
          "name": "stderr",
          "text": [
            "INFO:deepmol.log:Labels_shape: (1249,)\n"
          ]
        },
        {
          "output_type": "execute_result",
          "data": {
            "text/plain": [
              "((1249,), (1249, 9), (1249,))"
            ]
          },
          "metadata": {},
          "execution_count": 7
        }
      ]
    },
    {
      "cell_type": "code",
      "source": [
        "train_dataset"
      ],
      "metadata": {
        "colab": {
          "base_uri": "https://localhost:8080/"
        },
        "id": "AZHOIWKJhN8T",
        "outputId": "020dcd0d-34ff-4e9b-e601-0e0daf1c4109"
      },
      "execution_count": null,
      "outputs": [
        {
          "output_type": "execute_result",
          "data": {
            "text/plain": [
              "<deepmol.datasets.datasets.SmilesDataset at 0x7f1ad09d68b0>"
            ]
          },
          "metadata": {},
          "execution_count": 8
        }
      ]
    },
    {
      "cell_type": "code",
      "source": [
        "# Model building using Keras model example\n",
        "\n",
        "from keras.models import Sequential\n",
        "from keras.layers import Dense, Dropout\n",
        "from deepmol.metrics.metrics import Metric\n",
        "from sklearn import tree, model_selection, metrics\n",
        "from deepmol.metrics.metrics_functions import roc_auc_score \n",
        "from deepmol.metrics.metrics_functions import precision_score\n",
        "from deepmol.metrics.metrics_functions import accuracy_score\n",
        "from deepmol.metrics.metrics_functions import confusion_matrix\n",
        "from deepmol.metrics.metrics_functions import classification_report\n",
        "\n",
        "\n",
        "input_dim = train_dataset.X.shape[1]\n",
        "\n",
        "\n",
        "def create_model(optimizer='adam', dropout=0.5, input_dim=input_dim):\n",
        "  # create model\n",
        "  model = Sequential()\n",
        "  model.add(Dense(12, input_dim=input_dim, activation='relu'))\n",
        "  model.add(Dropout(dropout))\n",
        "  model.add(Dense(8, activation='relu'))\n",
        "  model.add(Dense(1, activation='sigmoid'))\n",
        "  # Compile model\n",
        "  model.compile(loss='binary_crossentropy', optimizer=optimizer, metrics=['accuracy'])\n",
        "  return model\n",
        "\n",
        "\n",
        "from deepmol.models.keras_models import KerasModel\n",
        "\n",
        "model = KerasModel(create_model, epochs=5, verbose=1, optimizer='adam')\n",
        "\n",
        "# train model\n",
        "model.fit(train_dataset)"
      ],
      "metadata": {
        "colab": {
          "base_uri": "https://localhost:8080/"
        },
        "id": "0cUta3Qqg3l4",
        "outputId": "2af0c6d8-82b8-4acc-80c6-f7d3e75636f6"
      },
      "execution_count": null,
      "outputs": [
        {
          "output_type": "stream",
          "name": "stderr",
          "text": [
            "WARNING:deepchem.models.torch_models:Skipped loading modules with pytorch-geometric dependency, missing a dependency. No module named 'torch_geometric'\n",
            "WARNING:deepchem.models:Skipped loading modules with pytorch-geometric dependency, missing a dependency. cannot import name 'DMPNN' from 'deepchem.models.torch_models' (/usr/local/lib/python3.9/dist-packages/deepchem/models/torch_models/__init__.py)\n",
            "WARNING:deepchem.models:Skipped loading modules with pytorch-lightning dependency, missing a dependency. No module named 'pytorch_lightning'\n",
            "WARNING:deepchem.models:Skipped loading some Jax models, missing a dependency. No module named 'haiku'\n"
          ]
        },
        {
          "output_type": "stream",
          "name": "stdout",
          "text": [
            "Epoch 1/5\n",
            "583/583 [==============================] - 2s 2ms/step - loss: 10.5193 - accuracy: 0.5769\n",
            "Epoch 2/5\n",
            "583/583 [==============================] - 1s 2ms/step - loss: 0.6285 - accuracy: 0.7648\n",
            "Epoch 3/5\n",
            "583/583 [==============================] - 1s 2ms/step - loss: 0.4743 - accuracy: 0.8314\n",
            "Epoch 4/5\n",
            "583/583 [==============================] - 1s 2ms/step - loss: 0.4620 - accuracy: 0.8372\n",
            "Epoch 5/5\n",
            "583/583 [==============================] - 1s 2ms/step - loss: 0.4596 - accuracy: 0.8353\n"
          ]
        }
      ]
    },
    {
      "cell_type": "code",
      "source": [
        "# make prediction on the test dataset with the model\n",
        "model.predict(test_dataset)\n",
        "\n",
        "# evaluate model using multiple metrics\n",
        "\n",
        "metrics = [Metric(roc_auc_score),\n",
        "           Metric(precision_score),\n",
        "           Metric(accuracy_score),\n",
        "           Metric(confusion_matrix),\n",
        "           Metric(classification_report)]\n",
        "\n",
        "print('Training set score:', model.evaluate(train_dataset, metrics))\n",
        "print('Test set score:', model.evaluate(test_dataset, metrics))\n",
        "\n",
        "#   Calculating Accuracy"
      ],
      "metadata": {
        "colab": {
          "base_uri": "https://localhost:8080/"
        },
        "id": "bGmqWCU0glZ3",
        "outputId": "df859fc7-427d-44e5-a5a1-c640eb12fb8b"
      },
      "execution_count": null,
      "outputs": [
        {
          "output_type": "stream",
          "name": "stdout",
          "text": [
            "40/40 [==============================] - 0s 1ms/step\n",
            "182/182 [==============================] - 0s 2ms/step\n",
            "Training set score: ({'roc_auc_score': 0.5995386711270559, 'precision_score': 0.8413309982486865, 'accuracy_score': 0.8428914835164835, 'confusion_matrix': array([[ 105,  906],\n",
            "       [   9, 4804]]), 'classification_report': '              precision    recall  f1-score   support\\n\\n           0       0.92      0.10      0.19      1011\\n           1       0.84      1.00      0.91      4813\\n\\n    accuracy                           0.84      5824\\n   macro avg       0.88      0.55      0.55      5824\\nweighted avg       0.86      0.84      0.79      5824\\n'}, {})\n",
            "40/40 [==============================] - 0s 2ms/step\n",
            "Test set score: ({'roc_auc_score': 0.6327444336882866, 'precision_score': 0.8390243902439024, 'accuracy_score': 0.8406725380304243, 'confusion_matrix': array([[  18,  198],\n",
            "       [   1, 1032]]), 'classification_report': '              precision    recall  f1-score   support\\n\\n           0       0.95      0.08      0.15       216\\n           1       0.84      1.00      0.91      1033\\n\\n    accuracy                           0.84      1249\\n   macro avg       0.89      0.54      0.53      1249\\nweighted avg       0.86      0.84      0.78      1249\\n'}, {})\n"
          ]
        }
      ]
    },
    {
      "cell_type": "code",
      "source": [
        "from xgboost import XGBClassifier\n",
        "from sklearn.linear_model import LogisticRegression"
      ],
      "metadata": {
        "id": "nqucdOqZzfZv"
      },
      "execution_count": null,
      "outputs": []
    },
    {
      "cell_type": "code",
      "source": [
        "X_train,y_train=train_dataset.X, train_dataset.y\n",
        "X_test,y_test=test_dataset.X,test_dataset.y"
      ],
      "metadata": {
        "id": "3n9Cmbqhy8Ln"
      },
      "execution_count": null,
      "outputs": []
    },
    {
      "cell_type": "code",
      "source": [
        "X_train[0]"
      ],
      "metadata": {
        "colab": {
          "base_uri": "https://localhost:8080/"
        },
        "id": "aQNUwyWlzH2O",
        "outputId": "9f6ad2ac-09cd-43a2-a0ef-85f5ec2776e1"
      },
      "execution_count": null,
      "outputs": [
        {
          "output_type": "execute_result",
          "data": {
            "text/plain": [
              "array([591.705 ,   3.3105,   6.    ,   6.    ,  38.    ,   3.    ,\n",
              "       162.934 ,   3.    ,  20.    ])"
            ]
          },
          "metadata": {},
          "execution_count": 120
        }
      ]
    },
    {
      "cell_type": "code",
      "source": [
        "xg=XGBClassifier()\n",
        "xg.fit(X_train,y_train)"
      ],
      "metadata": {
        "colab": {
          "base_uri": "https://localhost:8080/",
          "height": 248
        },
        "id": "_F8eyJVKzkOp",
        "outputId": "73fe2d3a-e1e2-4855-8e8a-0d85b69d124c"
      },
      "execution_count": null,
      "outputs": [
        {
          "output_type": "execute_result",
          "data": {
            "text/plain": [
              "XGBClassifier(base_score=None, booster=None, callbacks=None,\n",
              "              colsample_bylevel=None, colsample_bynode=None,\n",
              "              colsample_bytree=None, early_stopping_rounds=None,\n",
              "              enable_categorical=False, eval_metric=None, feature_types=None,\n",
              "              gamma=None, gpu_id=None, grow_policy=None, importance_type=None,\n",
              "              interaction_constraints=None, learning_rate=None, max_bin=None,\n",
              "              max_cat_threshold=None, max_cat_to_onehot=None,\n",
              "              max_delta_step=None, max_depth=None, max_leaves=None,\n",
              "              min_child_weight=None, missing=nan, monotone_constraints=None,\n",
              "              n_estimators=100, n_jobs=None, num_parallel_tree=None,\n",
              "              predictor=None, random_state=None, ...)"
            ],
            "text/html": [
              "<style>#sk-container-id-2 {color: black;background-color: white;}#sk-container-id-2 pre{padding: 0;}#sk-container-id-2 div.sk-toggleable {background-color: white;}#sk-container-id-2 label.sk-toggleable__label {cursor: pointer;display: block;width: 100%;margin-bottom: 0;padding: 0.3em;box-sizing: border-box;text-align: center;}#sk-container-id-2 label.sk-toggleable__label-arrow:before {content: \"▸\";float: left;margin-right: 0.25em;color: #696969;}#sk-container-id-2 label.sk-toggleable__label-arrow:hover:before {color: black;}#sk-container-id-2 div.sk-estimator:hover label.sk-toggleable__label-arrow:before {color: black;}#sk-container-id-2 div.sk-toggleable__content {max-height: 0;max-width: 0;overflow: hidden;text-align: left;background-color: #f0f8ff;}#sk-container-id-2 div.sk-toggleable__content pre {margin: 0.2em;color: black;border-radius: 0.25em;background-color: #f0f8ff;}#sk-container-id-2 input.sk-toggleable__control:checked~div.sk-toggleable__content {max-height: 200px;max-width: 100%;overflow: auto;}#sk-container-id-2 input.sk-toggleable__control:checked~label.sk-toggleable__label-arrow:before {content: \"▾\";}#sk-container-id-2 div.sk-estimator input.sk-toggleable__control:checked~label.sk-toggleable__label {background-color: #d4ebff;}#sk-container-id-2 div.sk-label input.sk-toggleable__control:checked~label.sk-toggleable__label {background-color: #d4ebff;}#sk-container-id-2 input.sk-hidden--visually {border: 0;clip: rect(1px 1px 1px 1px);clip: rect(1px, 1px, 1px, 1px);height: 1px;margin: -1px;overflow: hidden;padding: 0;position: absolute;width: 1px;}#sk-container-id-2 div.sk-estimator {font-family: monospace;background-color: #f0f8ff;border: 1px dotted black;border-radius: 0.25em;box-sizing: border-box;margin-bottom: 0.5em;}#sk-container-id-2 div.sk-estimator:hover {background-color: #d4ebff;}#sk-container-id-2 div.sk-parallel-item::after {content: \"\";width: 100%;border-bottom: 1px solid gray;flex-grow: 1;}#sk-container-id-2 div.sk-label:hover label.sk-toggleable__label {background-color: #d4ebff;}#sk-container-id-2 div.sk-serial::before {content: \"\";position: absolute;border-left: 1px solid gray;box-sizing: border-box;top: 0;bottom: 0;left: 50%;z-index: 0;}#sk-container-id-2 div.sk-serial {display: flex;flex-direction: column;align-items: center;background-color: white;padding-right: 0.2em;padding-left: 0.2em;position: relative;}#sk-container-id-2 div.sk-item {position: relative;z-index: 1;}#sk-container-id-2 div.sk-parallel {display: flex;align-items: stretch;justify-content: center;background-color: white;position: relative;}#sk-container-id-2 div.sk-item::before, #sk-container-id-2 div.sk-parallel-item::before {content: \"\";position: absolute;border-left: 1px solid gray;box-sizing: border-box;top: 0;bottom: 0;left: 50%;z-index: -1;}#sk-container-id-2 div.sk-parallel-item {display: flex;flex-direction: column;z-index: 1;position: relative;background-color: white;}#sk-container-id-2 div.sk-parallel-item:first-child::after {align-self: flex-end;width: 50%;}#sk-container-id-2 div.sk-parallel-item:last-child::after {align-self: flex-start;width: 50%;}#sk-container-id-2 div.sk-parallel-item:only-child::after {width: 0;}#sk-container-id-2 div.sk-dashed-wrapped {border: 1px dashed gray;margin: 0 0.4em 0.5em 0.4em;box-sizing: border-box;padding-bottom: 0.4em;background-color: white;}#sk-container-id-2 div.sk-label label {font-family: monospace;font-weight: bold;display: inline-block;line-height: 1.2em;}#sk-container-id-2 div.sk-label-container {text-align: center;}#sk-container-id-2 div.sk-container {/* jupyter's `normalize.less` sets `[hidden] { display: none; }` but bootstrap.min.css set `[hidden] { display: none !important; }` so we also need the `!important` here to be able to override the default hidden behavior on the sphinx rendered scikit-learn.org. See: https://github.com/scikit-learn/scikit-learn/issues/21755 */display: inline-block !important;position: relative;}#sk-container-id-2 div.sk-text-repr-fallback {display: none;}</style><div id=\"sk-container-id-2\" class=\"sk-top-container\"><div class=\"sk-text-repr-fallback\"><pre>XGBClassifier(base_score=None, booster=None, callbacks=None,\n",
              "              colsample_bylevel=None, colsample_bynode=None,\n",
              "              colsample_bytree=None, early_stopping_rounds=None,\n",
              "              enable_categorical=False, eval_metric=None, feature_types=None,\n",
              "              gamma=None, gpu_id=None, grow_policy=None, importance_type=None,\n",
              "              interaction_constraints=None, learning_rate=None, max_bin=None,\n",
              "              max_cat_threshold=None, max_cat_to_onehot=None,\n",
              "              max_delta_step=None, max_depth=None, max_leaves=None,\n",
              "              min_child_weight=None, missing=nan, monotone_constraints=None,\n",
              "              n_estimators=100, n_jobs=None, num_parallel_tree=None,\n",
              "              predictor=None, random_state=None, ...)</pre><b>In a Jupyter environment, please rerun this cell to show the HTML representation or trust the notebook. <br />On GitHub, the HTML representation is unable to render, please try loading this page with nbviewer.org.</b></div><div class=\"sk-container\" hidden><div class=\"sk-item\"><div class=\"sk-estimator sk-toggleable\"><input class=\"sk-toggleable__control sk-hidden--visually\" id=\"sk-estimator-id-2\" type=\"checkbox\" checked><label for=\"sk-estimator-id-2\" class=\"sk-toggleable__label sk-toggleable__label-arrow\">XGBClassifier</label><div class=\"sk-toggleable__content\"><pre>XGBClassifier(base_score=None, booster=None, callbacks=None,\n",
              "              colsample_bylevel=None, colsample_bynode=None,\n",
              "              colsample_bytree=None, early_stopping_rounds=None,\n",
              "              enable_categorical=False, eval_metric=None, feature_types=None,\n",
              "              gamma=None, gpu_id=None, grow_policy=None, importance_type=None,\n",
              "              interaction_constraints=None, learning_rate=None, max_bin=None,\n",
              "              max_cat_threshold=None, max_cat_to_onehot=None,\n",
              "              max_delta_step=None, max_depth=None, max_leaves=None,\n",
              "              min_child_weight=None, missing=nan, monotone_constraints=None,\n",
              "              n_estimators=100, n_jobs=None, num_parallel_tree=None,\n",
              "              predictor=None, random_state=None, ...)</pre></div></div></div></div></div>"
            ]
          },
          "metadata": {},
          "execution_count": 121
        }
      ]
    },
    {
      "cell_type": "code",
      "source": [
        "y_preds=xg.predict(X_test)"
      ],
      "metadata": {
        "id": "3q9hkmNlzpmB"
      },
      "execution_count": null,
      "outputs": []
    },
    {
      "cell_type": "code",
      "source": [
        "y_preds"
      ],
      "metadata": {
        "colab": {
          "base_uri": "https://localhost:8080/"
        },
        "id": "XlK5bVNkzzgd",
        "outputId": "ec66bf6e-139d-420b-f875-addc7156c79c"
      },
      "execution_count": null,
      "outputs": [
        {
          "output_type": "execute_result",
          "data": {
            "text/plain": [
              "array([1, 1, 0, ..., 1, 1, 1])"
            ]
          },
          "metadata": {},
          "execution_count": 16
        }
      ]
    },
    {
      "cell_type": "code",
      "source": [
        "accuracy_score(y_test,y_preds)"
      ],
      "metadata": {
        "colab": {
          "base_uri": "https://localhost:8080/"
        },
        "id": "ZMi7zYZ7ztpg",
        "outputId": "7e62dd5d-8b17-4aba-b734-798b009e07d1"
      },
      "execution_count": null,
      "outputs": [
        {
          "output_type": "execute_result",
          "data": {
            "text/plain": [
              "0.8863090472377902"
            ]
          },
          "metadata": {},
          "execution_count": 17
        }
      ]
    },
    {
      "cell_type": "code",
      "source": [
        "xg.score(X_test,y_test)"
      ],
      "metadata": {
        "colab": {
          "base_uri": "https://localhost:8080/"
        },
        "id": "IdIpuc350UO2",
        "outputId": "5006af49-6bc9-4dfc-cdf7-5f9d5a772584"
      },
      "execution_count": null,
      "outputs": [
        {
          "output_type": "execute_result",
          "data": {
            "text/plain": [
              "0.8863090472377902"
            ]
          },
          "metadata": {},
          "execution_count": 18
        }
      ]
    },
    {
      "cell_type": "markdown",
      "source": [
        "### Regression pIC50"
      ],
      "metadata": {
        "id": "YlpAIwZiLgaD"
      }
    },
    {
      "cell_type": "code",
      "source": [
        "import pandas as pd\n",
        "from xgboost import XGBRegressor\n",
        "from sklearn.linear_model import LinearRegression\n",
        "from sklearn.ensemble import RandomForestRegressor\n",
        "from sklearn.metrics import r2_score\n",
        "from sklearn.model_selection import train_test_split\n",
        "import matplotlib.pyplot as plt"
      ],
      "metadata": {
        "id": "Hgbdtd7ILo3e"
      },
      "execution_count": null,
      "outputs": []
    },
    {
      "cell_type": "code",
      "source": [
        "dfr=pd.read_csv('Beta-secretase1_bioactivity_withdescriptors.csv')\n",
        "dfr.drop(columns=[\"canonical_smiles\",\"molecule_chembl_id\",'class'], inplace=True)"
      ],
      "metadata": {
        "id": "-w3aMT9ALjvM"
      },
      "execution_count": null,
      "outputs": []
    },
    {
      "cell_type": "code",
      "source": [
        "dfr"
      ],
      "metadata": {
        "colab": {
          "base_uri": "https://localhost:8080/",
          "height": 467
        },
        "id": "I9Nye8I3OrWH",
        "outputId": "2a0ad5fe-605e-4ef3-b6f0-a820a59e74aa"
      },
      "execution_count": null,
      "outputs": [
        {
          "output_type": "execute_result",
          "data": {
            "text/plain": [
              "           MW     LogP  NumHDonors  NumHAcceptors     pIC50  NumHeavyAtoms  \\\n",
              "0     999.085 -1.43550        13.0           13.0  6.384050             38   \n",
              "1     893.005 -1.73610        12.0           12.0  8.698970             38   \n",
              "2     751.988  2.35350         8.0            9.0  6.337242             38   \n",
              "3     767.987  1.36900         8.0            9.0  4.468521             38   \n",
              "4     717.722  4.31960         7.0            7.0  7.698970             38   \n",
              "...       ...      ...         ...            ...       ...            ...   \n",
              "8316  675.849  2.50892         8.0            9.0  4.886057             38   \n",
              "8317  671.905  3.38110         7.0            8.0  4.853872             38   \n",
              "8318  651.915  3.09270         7.0            8.0  5.000000             38   \n",
              "8319  412.537  4.23600         1.0            5.0  9.221849             38   \n",
              "8320  556.176  6.72840         3.0            5.0  4.966576             38   \n",
              "\n",
              "      num_chiral_centers_list  polarizabilities  num_rings  rotatable_bonds  \n",
              "0                           9          251.3843          2             38.0  \n",
              "1                           9          224.6472          1             37.0  \n",
              "2                           5          201.2564          1             34.0  \n",
              "3                           5          201.8078          1             34.0  \n",
              "4                           3          185.2133          4             19.0  \n",
              "...                       ...               ...        ...              ...  \n",
              "8316                        6          180.2051          2             27.0  \n",
              "8317                        6          185.1508          3             25.0  \n",
              "8318                        6          177.6868          2             25.0  \n",
              "8319                        1          124.0364          5              4.0  \n",
              "8320                        0          154.2639          5             14.0  \n",
              "\n",
              "[8321 rows x 10 columns]"
            ],
            "text/html": [
              "\n",
              "  <div id=\"df-a0130c68-5c85-4ea7-8dcf-c06e5887bcf5\">\n",
              "    <div class=\"colab-df-container\">\n",
              "      <div>\n",
              "<style scoped>\n",
              "    .dataframe tbody tr th:only-of-type {\n",
              "        vertical-align: middle;\n",
              "    }\n",
              "\n",
              "    .dataframe tbody tr th {\n",
              "        vertical-align: top;\n",
              "    }\n",
              "\n",
              "    .dataframe thead th {\n",
              "        text-align: right;\n",
              "    }\n",
              "</style>\n",
              "<table border=\"1\" class=\"dataframe\">\n",
              "  <thead>\n",
              "    <tr style=\"text-align: right;\">\n",
              "      <th></th>\n",
              "      <th>MW</th>\n",
              "      <th>LogP</th>\n",
              "      <th>NumHDonors</th>\n",
              "      <th>NumHAcceptors</th>\n",
              "      <th>pIC50</th>\n",
              "      <th>NumHeavyAtoms</th>\n",
              "      <th>num_chiral_centers_list</th>\n",
              "      <th>polarizabilities</th>\n",
              "      <th>num_rings</th>\n",
              "      <th>rotatable_bonds</th>\n",
              "    </tr>\n",
              "  </thead>\n",
              "  <tbody>\n",
              "    <tr>\n",
              "      <th>0</th>\n",
              "      <td>999.085</td>\n",
              "      <td>-1.43550</td>\n",
              "      <td>13.0</td>\n",
              "      <td>13.0</td>\n",
              "      <td>6.384050</td>\n",
              "      <td>38</td>\n",
              "      <td>9</td>\n",
              "      <td>251.3843</td>\n",
              "      <td>2</td>\n",
              "      <td>38.0</td>\n",
              "    </tr>\n",
              "    <tr>\n",
              "      <th>1</th>\n",
              "      <td>893.005</td>\n",
              "      <td>-1.73610</td>\n",
              "      <td>12.0</td>\n",
              "      <td>12.0</td>\n",
              "      <td>8.698970</td>\n",
              "      <td>38</td>\n",
              "      <td>9</td>\n",
              "      <td>224.6472</td>\n",
              "      <td>1</td>\n",
              "      <td>37.0</td>\n",
              "    </tr>\n",
              "    <tr>\n",
              "      <th>2</th>\n",
              "      <td>751.988</td>\n",
              "      <td>2.35350</td>\n",
              "      <td>8.0</td>\n",
              "      <td>9.0</td>\n",
              "      <td>6.337242</td>\n",
              "      <td>38</td>\n",
              "      <td>5</td>\n",
              "      <td>201.2564</td>\n",
              "      <td>1</td>\n",
              "      <td>34.0</td>\n",
              "    </tr>\n",
              "    <tr>\n",
              "      <th>3</th>\n",
              "      <td>767.987</td>\n",
              "      <td>1.36900</td>\n",
              "      <td>8.0</td>\n",
              "      <td>9.0</td>\n",
              "      <td>4.468521</td>\n",
              "      <td>38</td>\n",
              "      <td>5</td>\n",
              "      <td>201.8078</td>\n",
              "      <td>1</td>\n",
              "      <td>34.0</td>\n",
              "    </tr>\n",
              "    <tr>\n",
              "      <th>4</th>\n",
              "      <td>717.722</td>\n",
              "      <td>4.31960</td>\n",
              "      <td>7.0</td>\n",
              "      <td>7.0</td>\n",
              "      <td>7.698970</td>\n",
              "      <td>38</td>\n",
              "      <td>3</td>\n",
              "      <td>185.2133</td>\n",
              "      <td>4</td>\n",
              "      <td>19.0</td>\n",
              "    </tr>\n",
              "    <tr>\n",
              "      <th>...</th>\n",
              "      <td>...</td>\n",
              "      <td>...</td>\n",
              "      <td>...</td>\n",
              "      <td>...</td>\n",
              "      <td>...</td>\n",
              "      <td>...</td>\n",
              "      <td>...</td>\n",
              "      <td>...</td>\n",
              "      <td>...</td>\n",
              "      <td>...</td>\n",
              "    </tr>\n",
              "    <tr>\n",
              "      <th>8316</th>\n",
              "      <td>675.849</td>\n",
              "      <td>2.50892</td>\n",
              "      <td>8.0</td>\n",
              "      <td>9.0</td>\n",
              "      <td>4.886057</td>\n",
              "      <td>38</td>\n",
              "      <td>6</td>\n",
              "      <td>180.2051</td>\n",
              "      <td>2</td>\n",
              "      <td>27.0</td>\n",
              "    </tr>\n",
              "    <tr>\n",
              "      <th>8317</th>\n",
              "      <td>671.905</td>\n",
              "      <td>3.38110</td>\n",
              "      <td>7.0</td>\n",
              "      <td>8.0</td>\n",
              "      <td>4.853872</td>\n",
              "      <td>38</td>\n",
              "      <td>6</td>\n",
              "      <td>185.1508</td>\n",
              "      <td>3</td>\n",
              "      <td>25.0</td>\n",
              "    </tr>\n",
              "    <tr>\n",
              "      <th>8318</th>\n",
              "      <td>651.915</td>\n",
              "      <td>3.09270</td>\n",
              "      <td>7.0</td>\n",
              "      <td>8.0</td>\n",
              "      <td>5.000000</td>\n",
              "      <td>38</td>\n",
              "      <td>6</td>\n",
              "      <td>177.6868</td>\n",
              "      <td>2</td>\n",
              "      <td>25.0</td>\n",
              "    </tr>\n",
              "    <tr>\n",
              "      <th>8319</th>\n",
              "      <td>412.537</td>\n",
              "      <td>4.23600</td>\n",
              "      <td>1.0</td>\n",
              "      <td>5.0</td>\n",
              "      <td>9.221849</td>\n",
              "      <td>38</td>\n",
              "      <td>1</td>\n",
              "      <td>124.0364</td>\n",
              "      <td>5</td>\n",
              "      <td>4.0</td>\n",
              "    </tr>\n",
              "    <tr>\n",
              "      <th>8320</th>\n",
              "      <td>556.176</td>\n",
              "      <td>6.72840</td>\n",
              "      <td>3.0</td>\n",
              "      <td>5.0</td>\n",
              "      <td>4.966576</td>\n",
              "      <td>38</td>\n",
              "      <td>0</td>\n",
              "      <td>154.2639</td>\n",
              "      <td>5</td>\n",
              "      <td>14.0</td>\n",
              "    </tr>\n",
              "  </tbody>\n",
              "</table>\n",
              "<p>8321 rows × 10 columns</p>\n",
              "</div>\n",
              "      <button class=\"colab-df-convert\" onclick=\"convertToInteractive('df-a0130c68-5c85-4ea7-8dcf-c06e5887bcf5')\"\n",
              "              title=\"Convert this dataframe to an interactive table.\"\n",
              "              style=\"display:none;\">\n",
              "        \n",
              "  <svg xmlns=\"http://www.w3.org/2000/svg\" height=\"24px\"viewBox=\"0 0 24 24\"\n",
              "       width=\"24px\">\n",
              "    <path d=\"M0 0h24v24H0V0z\" fill=\"none\"/>\n",
              "    <path d=\"M18.56 5.44l.94 2.06.94-2.06 2.06-.94-2.06-.94-.94-2.06-.94 2.06-2.06.94zm-11 1L8.5 8.5l.94-2.06 2.06-.94-2.06-.94L8.5 2.5l-.94 2.06-2.06.94zm10 10l.94 2.06.94-2.06 2.06-.94-2.06-.94-.94-2.06-.94 2.06-2.06.94z\"/><path d=\"M17.41 7.96l-1.37-1.37c-.4-.4-.92-.59-1.43-.59-.52 0-1.04.2-1.43.59L10.3 9.45l-7.72 7.72c-.78.78-.78 2.05 0 2.83L4 21.41c.39.39.9.59 1.41.59.51 0 1.02-.2 1.41-.59l7.78-7.78 2.81-2.81c.8-.78.8-2.07 0-2.86zM5.41 20L4 18.59l7.72-7.72 1.47 1.35L5.41 20z\"/>\n",
              "  </svg>\n",
              "      </button>\n",
              "      \n",
              "  <style>\n",
              "    .colab-df-container {\n",
              "      display:flex;\n",
              "      flex-wrap:wrap;\n",
              "      gap: 12px;\n",
              "    }\n",
              "\n",
              "    .colab-df-convert {\n",
              "      background-color: #E8F0FE;\n",
              "      border: none;\n",
              "      border-radius: 50%;\n",
              "      cursor: pointer;\n",
              "      display: none;\n",
              "      fill: #1967D2;\n",
              "      height: 32px;\n",
              "      padding: 0 0 0 0;\n",
              "      width: 32px;\n",
              "    }\n",
              "\n",
              "    .colab-df-convert:hover {\n",
              "      background-color: #E2EBFA;\n",
              "      box-shadow: 0px 1px 2px rgba(60, 64, 67, 0.3), 0px 1px 3px 1px rgba(60, 64, 67, 0.15);\n",
              "      fill: #174EA6;\n",
              "    }\n",
              "\n",
              "    [theme=dark] .colab-df-convert {\n",
              "      background-color: #3B4455;\n",
              "      fill: #D2E3FC;\n",
              "    }\n",
              "\n",
              "    [theme=dark] .colab-df-convert:hover {\n",
              "      background-color: #434B5C;\n",
              "      box-shadow: 0px 1px 3px 1px rgba(0, 0, 0, 0.15);\n",
              "      filter: drop-shadow(0px 1px 2px rgba(0, 0, 0, 0.3));\n",
              "      fill: #FFFFFF;\n",
              "    }\n",
              "  </style>\n",
              "\n",
              "      <script>\n",
              "        const buttonEl =\n",
              "          document.querySelector('#df-a0130c68-5c85-4ea7-8dcf-c06e5887bcf5 button.colab-df-convert');\n",
              "        buttonEl.style.display =\n",
              "          google.colab.kernel.accessAllowed ? 'block' : 'none';\n",
              "\n",
              "        async function convertToInteractive(key) {\n",
              "          const element = document.querySelector('#df-a0130c68-5c85-4ea7-8dcf-c06e5887bcf5');\n",
              "          const dataTable =\n",
              "            await google.colab.kernel.invokeFunction('convertToInteractive',\n",
              "                                                     [key], {});\n",
              "          if (!dataTable) return;\n",
              "\n",
              "          const docLinkHtml = 'Like what you see? Visit the ' +\n",
              "            '<a target=\"_blank\" href=https://colab.research.google.com/notebooks/data_table.ipynb>data table notebook</a>'\n",
              "            + ' to learn more about interactive tables.';\n",
              "          element.innerHTML = '';\n",
              "          dataTable['output_type'] = 'display_data';\n",
              "          await google.colab.output.renderOutput(dataTable, element);\n",
              "          const docLink = document.createElement('div');\n",
              "          docLink.innerHTML = docLinkHtml;\n",
              "          element.appendChild(docLink);\n",
              "        }\n",
              "      </script>\n",
              "    </div>\n",
              "  </div>\n",
              "  "
            ]
          },
          "metadata": {},
          "execution_count": 146
        }
      ]
    },
    {
      "cell_type": "code",
      "source": [
        "X=dfr.drop(columns='pIC50').values\n",
        "y=dfr['pIC50'].values"
      ],
      "metadata": {
        "id": "eMf_Nn-3Ln2w"
      },
      "execution_count": null,
      "outputs": []
    },
    {
      "cell_type": "code",
      "source": [
        "X_train, X_test, y_train,y_test=train_test_split(X,y,test_size=0.2)"
      ],
      "metadata": {
        "id": "Y9z_BZs4MIEg"
      },
      "execution_count": null,
      "outputs": []
    },
    {
      "cell_type": "code",
      "source": [
        "model=XGBRegressor().fit(X_train,y_train)\n",
        "y_pred=model.predict(X_test)\n",
        "model.score(X_test,y_test)"
      ],
      "metadata": {
        "colab": {
          "base_uri": "https://localhost:8080/"
        },
        "id": "onw1BtKiMd0o",
        "outputId": "b80e77b5-db19-4afd-cf83-7bc64dbb7f2d"
      },
      "execution_count": null,
      "outputs": [
        {
          "output_type": "execute_result",
          "data": {
            "text/plain": [
              "0.5574709722738835"
            ]
          },
          "metadata": {},
          "execution_count": 150
        }
      ]
    },
    {
      "cell_type": "code",
      "source": [
        "plt.scatter(y_pred,y_test)"
      ],
      "metadata": {
        "colab": {
          "base_uri": "https://localhost:8080/",
          "height": 282
        },
        "id": "5rvtqf-LOAGA",
        "outputId": "988a770c-5ccd-4f71-b935-d2e3c2325c9a"
      },
      "execution_count": null,
      "outputs": [
        {
          "output_type": "execute_result",
          "data": {
            "text/plain": [
              "<matplotlib.collections.PathCollection at 0x7f19ea4a89a0>"
            ]
          },
          "metadata": {},
          "execution_count": 151
        },
        {
          "output_type": "display_data",
          "data": {
            "text/plain": [
              "<Figure size 432x288 with 1 Axes>"
            ],
            "image/png": "[encoded data removed]"
          },
          "metadata": {
            "needs_background": "light"
          }
        }
      ]
    },
    {
      "cell_type": "markdown",
      "source": [
        "## Inference"
      ],
      "metadata": {
        "id": "KVGT1OAbmdkX"
      }
    },
    {
      "cell_type": "code",
      "source": [
        "import numpy as np\n",
        "from rdkit import Chem\n",
        "from rdkit.Chem import Descriptors, Lipinski, AllChem"
      ],
      "metadata": {
        "id": "Xsc_GnbIn3Zd"
      },
      "execution_count": null,
      "outputs": []
    },
    {
      "cell_type": "code",
      "source": [
        "smiles_example=\"CC(C)C[C@H](NC(=O)[C@@H](NC(=O)[C@@H](N)CCC(=O)O)C(C)C)C(=O)N[C@@H](Cc1ccccc1)[C@@H](O)C(=O)N[C@@H](CC(=O)O)C(=O)N[C@@H](C)C(=O)N[C@@H](CCC(=O)O)C(=O)N[C@@H](Cc1ccccc1)C(=O)O\""
      ],
      "metadata": {
        "id": "jyYW4t71oncr"
      },
      "execution_count": null,
      "outputs": []
    },
    {
      "cell_type": "code",
      "source": [
        "def clean_smiles(i):\n",
        "  cpd = str(i).split('.')\n",
        "  cpd_longest = max(cpd, key = len)\n",
        "  return cpd_longest\n",
        "clean_smiles(smiles_example)"
      ],
      "metadata": {
        "colab": {
          "base_uri": "https://localhost:8080/",
          "height": 53
        },
        "id": "x_H3MFufmf-R",
        "outputId": "0176a887-2fe4-40c3-a4d8-faeee3e7b2f3"
      },
      "execution_count": null,
      "outputs": [
        {
          "output_type": "execute_result",
          "data": {
            "text/plain": [
              "'CC(C)C[C@H](NC(=O)[C@@H](NC(=O)[C@@H](N)CCC(=O)O)C(C)C)C(=O)N[C@@H](Cc1ccccc1)[C@@H](O)C(=O)N[C@@H](CC(=O)O)C(=O)N[C@@H](C)C(=O)N[C@@H](CCC(=O)O)C(=O)N[C@@H](Cc1ccccc1)C(=O)O'"
            ],
            "application/vnd.google.colaboratory.intrinsic+json": {
              "type": "string"
            }
          },
          "metadata": {},
          "execution_count": 21
        }
      ]
    },
    {
      "cell_type": "code",
      "source": [
        "# descriptors\n",
        "\n",
        "def lipinski(smiles):\n",
        "    moldata= Chem.MolFromSmiles(smiles) \n",
        "    \n",
        "    desc_MolWt = Descriptors.MolWt(moldata)\n",
        "    desc_MolLogP = Descriptors.MolLogP(moldata)\n",
        "    desc_NumHDonors = Lipinski.NumHDonors(moldata)\n",
        "    desc_NumHAcceptors = Lipinski.NumHAcceptors(moldata)\n",
        "        \n",
        "    descriptors = {'MW':desc_MolWt,'LogP':desc_MolLogP,'NumHDonors':desc_NumHDonors, 'NumHAcceptors':desc_NumHAcceptors}\n",
        "    \n",
        "    return descriptors\n",
        "lipinski(smiles_example)"
      ],
      "metadata": {
        "colab": {
          "base_uri": "https://localhost:8080/"
        },
        "id": "x-1thI2fnyuk",
        "outputId": "ff764d44-94b8-4bcf-b152-fc61820ac13f"
      },
      "execution_count": null,
      "outputs": [
        {
          "output_type": "execute_result",
          "data": {
            "text/plain": [
              "{'MW': 999.0849999999999,\n",
              " 'LogP': -1.4355000000000018,\n",
              " 'NumHDonors': 13,\n",
              " 'NumHAcceptors': 13}"
            ]
          },
          "metadata": {},
          "execution_count": 22
        }
      ]
    },
    {
      "cell_type": "code",
      "source": [
        "def calculate_rotatable_bonds(smiles):\n",
        "    mol = Chem.MolFromSmiles(smiles)\n",
        "    mol = Chem.AddHs(mol)  # add hydrogens\n",
        "    AllChem.EmbedMolecule(mol, AllChem.ETKDG())  # generate 3D coordinates\n",
        "    AllChem.UFFOptimizeMolecule(mol)  # optimize 3D structure\n",
        "    num_rotatable_bonds = Descriptors.NumRotatableBonds(mol)\n",
        "    return num_rotatable_bonds"
      ],
      "metadata": {
        "id": "9ptvUT8JozSP"
      },
      "execution_count": null,
      "outputs": []
    },
    {
      "cell_type": "code",
      "source": [
        "def get_rotatable_bonds(smiles):\n",
        "  mol = Chem.MolFromSmiles(smiles)\n",
        "  if mol is None:\n",
        "      num_rotatable_bonds = None\n",
        "  else:\n",
        "      mol = Chem.AddHs(mol)  # add hydrogens\n",
        "      try:\n",
        "          AllChem.EmbedMolecule(mol, AllChem.ETKDG())  # generate 3D coordinates\n",
        "          AllChem.UFFOptimizeMolecule(mol)  # optimize 3D structure\n",
        "          num_rotatable_bonds = Descriptors.NumRotatableBonds(mol)\n",
        "      except ValueError:\n",
        "          num_rotatable_bonds = None\n",
        "  return {'rotatable_bonds':num_rotatable_bonds}\n",
        "get_rotatable_bonds(smiles_example)"
      ],
      "metadata": {
        "colab": {
          "base_uri": "https://localhost:8080/"
        },
        "id": "lmCmZS-tp-4i",
        "outputId": "3afb3deb-499d-4384-8bb6-64499d7e1998"
      },
      "execution_count": null,
      "outputs": [
        {
          "output_type": "execute_result",
          "data": {
            "text/plain": [
              "{'rotatable_bonds': 38}"
            ]
          },
          "metadata": {},
          "execution_count": 24
        }
      ]
    },
    {
      "cell_type": "code",
      "source": [
        "def calculate_num_rings(smiles):\n",
        "    mol = Chem.MolFromSmiles(smiles)\n",
        "    num_rings = Descriptors.RingCount(mol)\n",
        "    return {'num_rings':num_rings}\n",
        "calculate_num_rings(smiles_example)"
      ],
      "metadata": {
        "colab": {
          "base_uri": "https://localhost:8080/"
        },
        "id": "qjmWXIIhqncV",
        "outputId": "527544f5-eab0-493e-fcf9-32115ee6d032"
      },
      "execution_count": null,
      "outputs": [
        {
          "output_type": "execute_result",
          "data": {
            "text/plain": [
              "{'num_rings': 2}"
            ]
          },
          "metadata": {},
          "execution_count": 25
        }
      ]
    },
    {
      "cell_type": "code",
      "source": [
        "def calculate_polarizability(smiles):\n",
        "    mol = Chem.MolFromSmiles(smiles)\n",
        "    return {\"polarizabilities\":Descriptors.MolMR(mol)}\n",
        "calculate_polarizability(smiles_example)"
      ],
      "metadata": {
        "colab": {
          "base_uri": "https://localhost:8080/"
        },
        "id": "kjyND6Mtq2ca",
        "outputId": "06e10320-d1dd-4cc7-c63a-482e3d16b1e8"
      },
      "execution_count": null,
      "outputs": [
        {
          "output_type": "execute_result",
          "data": {
            "text/plain": [
              "{'polarizabilities': 251.38429999999948}"
            ]
          },
          "metadata": {},
          "execution_count": 26
        }
      ]
    },
    {
      "cell_type": "code",
      "source": [
        "def calculate_num_chiral_centers(smiles):\n",
        "    mol = Chem.MolFromSmiles(smiles)\n",
        "    chiral_centers = Chem.FindMolChiralCenters(mol)\n",
        "    num_chiral_centers = len(chiral_centers)\n",
        "    return {\"num_chiral_centers_list\":num_chiral_centers}\n",
        "calculate_num_chiral_centers(smiles_example)"
      ],
      "metadata": {
        "colab": {
          "base_uri": "https://localhost:8080/"
        },
        "id": "VHO_Kcd0rCEo",
        "outputId": "d3a9235d-9094-42fc-99a0-682f0f43d9f3"
      },
      "execution_count": null,
      "outputs": [
        {
          "output_type": "execute_result",
          "data": {
            "text/plain": [
              "{'num_chiral_centers_list': 9}"
            ]
          },
          "metadata": {},
          "execution_count": 27
        }
      ]
    },
    {
      "cell_type": "code",
      "source": [
        "def calculate_num_heavy_atoms(smile):\n",
        "    mol = Chem.MolFromSmiles(smile)\n",
        "    num_heavy_atoms = mol.GetNumHeavyAtoms()\n",
        "    return {\"NumHeavyAtoms\":num_heavy_atoms}\n",
        "calculate_num_heavy_atoms(smiles_example)"
      ],
      "metadata": {
        "colab": {
          "base_uri": "https://localhost:8080/"
        },
        "id": "MSsG4dPirWt5",
        "outputId": "dbb47f9f-906f-4b95-9a38-6d743d22e8e0"
      },
      "execution_count": null,
      "outputs": [
        {
          "output_type": "execute_result",
          "data": {
            "text/plain": [
              "{'NumHeavyAtoms': 71}"
            ]
          },
          "metadata": {},
          "execution_count": 28
        }
      ]
    },
    {
      "cell_type": "code",
      "source": [
        "def input_pipeline(smiles):\n",
        "  smiles=clean_smiles(smiles)\n",
        "  features={'canonical_smiles':smiles}\n",
        "  features|=calculate_num_heavy_atoms(smiles)\n",
        "  features|=calculate_num_chiral_centers(smiles)\n",
        "  features|=calculate_num_rings(smiles)\n",
        "  features|=get_rotatable_bonds(smiles)\n",
        "  features|=lipinski(smiles)\n",
        "  return features\n",
        "s=input_pipeline(smiles_example)\n",
        "s"
      ],
      "metadata": {
        "colab": {
          "base_uri": "https://localhost:8080/"
        },
        "id": "eIv-XnHprcac",
        "outputId": "c75a8888-94d2-41c2-d3a1-65964605f41d"
      },
      "execution_count": null,
      "outputs": [
        {
          "output_type": "execute_result",
          "data": {
            "text/plain": [
              "{'canonical_smiles': 'CC(C)C[C@H](NC(=O)[C@@H](NC(=O)[C@@H](N)CCC(=O)O)C(C)C)C(=O)N[C@@H](Cc1ccccc1)[C@@H](O)C(=O)N[C@@H](CC(=O)O)C(=O)N[C@@H](C)C(=O)N[C@@H](CCC(=O)O)C(=O)N[C@@H](Cc1ccccc1)C(=O)O',\n",
              " 'NumHeavyAtoms': 71,\n",
              " 'num_chiral_centers_list': 9,\n",
              " 'num_rings': 2,\n",
              " 'rotatable_bonds': 38,\n",
              " 'MW': 999.0849999999999,\n",
              " 'LogP': -1.4355000000000018,\n",
              " 'NumHDonors': 13,\n",
              " 'NumHAcceptors': 13}"
            ]
          },
          "metadata": {},
          "execution_count": 29
        }
      ]
    },
    {
      "cell_type": "code",
      "source": [
        "xg.predict([list(s.values())[1:]])[0]"
      ],
      "metadata": {
        "colab": {
          "base_uri": "https://localhost:8080/"
        },
        "id": "g0bN_7FvvJes",
        "outputId": "dc2249b9-3024-4b54-8b6f-58e5c8d2431e"
      },
      "execution_count": null,
      "outputs": [
        {
          "output_type": "execute_result",
          "data": {
            "text/plain": [
              "0"
            ]
          },
          "metadata": {},
          "execution_count": 30
        }
      ]
    },
    {
      "cell_type": "code",
      "source": [
        "def infer_smiles(smiles):\n",
        "  features=input_pipeline(smiles)\n",
        "  predicted_class=xg.predict([list(s.values())[1:]])[0]\n",
        "  result=features|{'class':predicted_class}\n",
        "  return result"
      ],
      "metadata": {
        "id": "aURCHTcRszMh"
      },
      "execution_count": null,
      "outputs": []
    },
    {
      "cell_type": "code",
      "source": [
        "infer_smiles( 'CC(C)C[C@H](NC(=O)[C@@H](NC(=O)[C@@H](N)CCC(=O)O)C(C)C)C(=O)N[C@@H](Cc1ccccc1)[C@@H](O)C(=O)N[C@@H](CC(=O)O)C(=O)N[C@@H](C)C(=O)N[C@@H](CCC(=O)O)C(=O)N[C@@H](Cc1ccccc1)C(=O)O')"
      ],
      "metadata": {
        "colab": {
          "base_uri": "https://localhost:8080/"
        },
        "id": "VcQXC2RQv1Nw",
        "outputId": "aa2911a9-0ce3-43cb-b2f2-9e18912a1d13"
      },
      "execution_count": null,
      "outputs": [
        {
          "output_type": "execute_result",
          "data": {
            "text/plain": [
              "{'canonical_smiles': 'CC(C)C[C@H](NC(=O)[C@@H](NC(=O)[C@@H](N)CCC(=O)O)C(C)C)C(=O)N[C@@H](Cc1ccccc1)[C@@H](O)C(=O)N[C@@H](CC(=O)O)C(=O)N[C@@H](C)C(=O)N[C@@H](CCC(=O)O)C(=O)N[C@@H](Cc1ccccc1)C(=O)O',\n",
              " 'NumHeavyAtoms': 71,\n",
              " 'num_chiral_centers_list': 9,\n",
              " 'num_rings': 2,\n",
              " 'rotatable_bonds': 38,\n",
              " 'MW': 999.0849999999999,\n",
              " 'LogP': -1.4355000000000018,\n",
              " 'NumHDonors': 13,\n",
              " 'NumHAcceptors': 13,\n",
              " 'class': 0}"
            ]
          },
          "metadata": {},
          "execution_count": 32
        }
      ]
    }
  ]
}